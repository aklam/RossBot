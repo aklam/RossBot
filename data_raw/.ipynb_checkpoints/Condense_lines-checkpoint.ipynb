{
 "cells": [
  {
   "cell_type": "code",
   "execution_count": 4,
   "metadata": {
    "collapsed": true
   },
   "outputs": [],
   "source": [
    "import html2text\n",
    "import os\n",
    "import shutil\n",
    "import re"
   ]
  },
  {
   "cell_type": "code",
   "execution_count": 7,
   "metadata": {
    "collapsed": true
   },
   "outputs": [],
   "source": [
    "target_from = \"scripts/\"\n",
    "target_to = \"pure_scripts/\"\n",
    "\n",
    "if os.path.isdir(target_to):\n",
    "    shutil.rmtree(target_to)\n",
    "\n",
    "os.mkdir(target_to)\n",
    "\n",
    "all_scripts = os.listdir(target_from)"
   ]
  },
  {
   "cell_type": "code",
   "execution_count": null,
   "metadata": {
    "collapsed": true
   },
   "outputs": [],
   "source": []
  },
  {
   "cell_type": "code",
   "execution_count": 8,
   "metadata": {
    "collapsed": true
   },
   "outputs": [],
   "source": [
    "t = \"\"\n",
    "for s in all_scripts:\n",
    "    f = open(target_from + s, 'r', encoding = \"ISO-8859-1\")\n",
    "    f_r = f.read()\n",
    "    f.close()\n",
    "    \n",
    "    f_w = open(target_to + s, 'w')\n",
    "    prev = \"\"\n",
    "    for l in f_r.split(\"\\n\"):\n",
    "        if not l and prev:\n",
    "            if re.search(\"[\\[\\(:]\", prev) is not None:\n",
    "                prev = re.sub(\"\\xC2\\x93\",\"\\\"\", prev)\n",
    "                prev = re.sub(\"\\xC2\\x94\",\"\\\"\", prev)\n",
    "                prev = re.sub(\"   +\",\"\\n\", prev)\n",
    "                prev = re.sub(\" :\", \":\", prev)\n",
    "                f_w.write(\"\\n\" + prev)\n",
    "            prev = \"\"\n",
    "        elif l:\n",
    "            prev = prev + \" \" + l\n",
    "        \n",
    "    f_w.close()\n",
    "    "
   ]
  },
  {
   "cell_type": "code",
   "execution_count": null,
   "metadata": {
    "collapsed": true
   },
   "outputs": [],
   "source": []
  }
 ],
 "metadata": {
  "kernelspec": {
   "display_name": "Python 3",
   "language": "python",
   "name": "python3"
  },
  "language_info": {
   "codemirror_mode": {
    "name": "ipython",
    "version": 3
   },
   "file_extension": ".py",
   "mimetype": "text/x-python",
   "name": "python",
   "nbconvert_exporter": "python",
   "pygments_lexer": "ipython3",
   "version": "3.6.1"
  }
 },
 "nbformat": 4,
 "nbformat_minor": 2
}
