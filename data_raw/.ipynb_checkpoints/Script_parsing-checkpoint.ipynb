{
 "cells": [
  {
   "cell_type": "code",
   "execution_count": null,
   "metadata": {
    "collapsed": true
   },
   "outputs": [],
   "source": [
    "import glob, os\n",
    "import re\n",
    "import bleach\n",
    "from nltk.tokenize import sent_tokenize, word_tokenize"
   ]
  },
  {
   "cell_type": "code",
   "execution_count": 2,
   "metadata": {
    "collapsed": true
   },
   "outputs": [],
   "source": [
    "TARGET_CHARACTER = \"ROSS\"\n",
    "class Line: \n",
    "    def __init__ (self, speaker, line):\n",
    "        self.speaker = speaker\n",
    "        self.line = line\n",
    "\n",
    "    def __str__ (self):\n",
    "        return self.speaker + \":\" + self.line"
   ]
  },
  {
   "cell_type": "code",
   "execution_count": 3,
   "metadata": {
    "collapsed": true
   },
   "outputs": [],
   "source": [
    "class LinePair:\n",
    "    def __init__(self, Line1, Line2):\n",
    "        self.input = Line1\n",
    "        self.reply = Line2\n",
    "\n",
    "    def __str__(self):\n",
    "        return \"1) \" + self.input.__str__() + \"\\n2) \" + self.reply.__str__()"
   ]
  },
  {
   "cell_type": "code",
   "execution_count": 4,
   "metadata": {
    "collapsed": true
   },
   "outputs": [],
   "source": [
    "class Scene:\n",
    "    def __init__ (self, conversation):\n",
    "        self.charactersInScene = {}\n",
    "        self.characterLines = []\n",
    "\n",
    "        for l in conversation:\n",
    "            name = l.split(\":\")[0]\n",
    "\n",
    "            if name not in self.charactersInScene and name and name.upper() != \"ALL\" and \"+\" not in name:\n",
    "                self.charactersInScene[name] = 0\n",
    "\n",
    "            if name in self.charactersInScene:\n",
    "                self.charactersInScene[name] += 1\n",
    "\n",
    "        if TARGET_CHARACTER not in self.charactersInScene:\n",
    "            return None\n",
    "\n",
    "        for l in conversation:\n",
    "            if \":\" not in l:\n",
    "                continue\n",
    "            line = l.split(\":\")\n",
    "            speaker = line[0]\n",
    "            quote = re.sub(\"\\(.*\\)\",\"\",line[1])\n",
    "            shorten_ellispe = re.sub(\"\\.\\.\\.+\",\"...\", quote)\n",
    "            if speaker in self.charactersInScene:\n",
    "                self.characterLines.append(Line(speaker, shorten_ellispe))\n",
    "\n",
    "            elif TARGET_CHARACTER in speaker or speaker.upper() == \"ALL\":\n",
    "                self.characterLines.append(Line(TARGET_CHARACTER, shorten_ellispe))\n",
    "\n",
    "\n",
    "    def __str__ (self):\n",
    "        ret = self.characterLines[0].__str__()\n",
    "\n",
    "        for l in self.characterLines[1:]:\n",
    "            ret = ret + \"\\n\" + l.__str__()\n",
    "\n",
    "        return ret"
   ]
  },
  {
   "cell_type": "code",
   "execution_count": 13,
   "metadata": {
    "collapsed": true
   },
   "outputs": [],
   "source": [
    "def gen_line_pairs(scene):\n",
    "    pairs = [] \n",
    "    if len(scene.characterLines) == 0:\n",
    "        return pairs\n",
    "    first = scene.characterLines[0]\n",
    "    for l in scene.characterLines[1:]:\n",
    "        if l.speaker == TARGET_CHARACTER and first.speaker != TARGET_CHARACTER:\n",
    "            pairs.append(LinePair(first, l))\n",
    "        first = l \n",
    "\n",
    "    return pairs"
   ]
  },
  {
   "cell_type": "code",
   "execution_count": 14,
   "metadata": {
    "collapsed": true
   },
   "outputs": [],
   "source": [
    "def shorten_pair(pair):\n",
    "    input_sentences = sent_tokenize(pair.input.line)\n",
    "    reply_sentences = sent_tokenize(pair.reply.line)\n",
    "\n",
    "    new_input = \"\"\n",
    "    num_input = 0\n",
    "    for s in reversed(input_sentences):\n",
    "        s_tokens = word_tokenize(s)\n",
    "        if num_input + len(s_tokens) <= 30:\n",
    "            new_input = s + \" \" + new_input\n",
    "            num_input += len(s_tokens)\n",
    "\n",
    "        else:\n",
    "            break\n",
    "\n",
    "    new_input = new_input.strip()\n",
    "\n",
    "    new_reply = \"\"\n",
    "    num_reply = 0\n",
    "    for s in reply_sentences:\n",
    "        s_tokens = word_tokenize(s)\n",
    "        if num_reply + len(s_tokens) <= 30:\n",
    "            new_reply = new_reply + \" \" + s\n",
    "            num_reply += len(s_tokens)\n",
    "        else:\n",
    "            break\n",
    "\n",
    "    new_reply = new_reply.strip()\n",
    "    \n",
    "    pair.input.line = new_input\n",
    "    pair.reply.line = new_reply"
   ]
  },
  {
   "cell_type": "code",
   "execution_count": 22,
   "metadata": {},
   "outputs": [
    {
     "name": "stdout",
     "output_type": "stream",
     "text": [
      "0\n",
      "0\n",
      "0\n",
      "0\n",
      "0\n",
      "0\n",
      "0\n",
      "0\n",
      "0\n",
      "0\n",
      "0\n",
      "0\n",
      "0\n",
      "0\n",
      "0\n",
      "0\n"
     ]
    }
   ],
   "source": [
    "def process_file(file_name):\n",
    "    f = open(file_name, 'r', encoding = \"ISO-8859-1\")\n",
    "    f_contents = f.read()\n",
    "    f.close()\n",
    "    scenes = re.compile(\"\\[.*\\]\").split(f_contents)\n",
    "\n",
    "    all_pairs = []\n",
    "    for scene in scenes:\n",
    "        lines_empty = scene.split(\"\\n\")\n",
    "        \n",
    "        sc = Scene(lines_empty)\n",
    "        line_pairs = gen_line_pairs(sc)\n",
    "\n",
    "        for p in line_pairs:\n",
    "            shorten_pair(p)\n",
    "            all_pairs.append(p)\n",
    "            print(\"hi\")\n",
    "\n",
    "    for p in all_pairs:\n",
    "        print(p)\n",
    "        \n",
    "process_file(\"scripts/0417.txt\")"
   ]
  },
  {
   "cell_type": "code",
   "execution_count": 15,
   "metadata": {},
   "outputs": [],
   "source": [
    "#for s in os.listdir(\"scripts/\"):    "
   ]
  },
  {
   "cell_type": "code",
   "execution_count": null,
   "metadata": {
    "collapsed": true
   },
   "outputs": [],
   "source": []
  }
 ],
 "metadata": {
  "kernelspec": {
   "display_name": "Python 3",
   "language": "python",
   "name": "python3"
  },
  "language_info": {
   "codemirror_mode": {
    "name": "ipython",
    "version": 3
   },
   "file_extension": ".py",
   "mimetype": "text/x-python",
   "name": "python",
   "nbconvert_exporter": "python",
   "pygments_lexer": "ipython3",
   "version": "3.6.1"
  }
 },
 "nbformat": 4,
 "nbformat_minor": 2
}
