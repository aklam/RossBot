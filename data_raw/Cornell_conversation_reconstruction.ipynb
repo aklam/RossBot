{
 "cells": [
  {
   "cell_type": "code",
   "execution_count": 2,
   "metadata": {
    "collapsed": true
   },
   "outputs": [],
   "source": [
    "import html2text\n",
    "import os\n",
    "import shutil\n",
    "import re"
   ]
  },
  {
   "cell_type": "markdown",
   "metadata": {},
   "source": [
    "## Process lines"
   ]
  },
  {
   "cell_type": "code",
   "execution_count": 3,
   "metadata": {},
   "outputs": [],
   "source": [
    "lines_filename = \"cornell movie-dialogs corpus/movie_lines.txt\"\n",
    "lines_file = open(lines_filename, 'r', encoding = \"ISO-8859-1\")\n",
    "all_lines = lines_file.read()\n",
    "lines = all_lines.split(\"\\n\")"
   ]
  },
  {
   "cell_type": "code",
   "execution_count": 4,
   "metadata": {},
   "outputs": [],
   "source": [
    "lines_simple = {}\n",
    "i = 0\n",
    "for l in lines:\n",
    "    line_fields = l.split(\"+++$+++\")\n",
    "    i += 1\n",
    "    try:\n",
    "        line_ID = line_fields[0].strip()\n",
    "        character_name  = line_fields[3].strip()\n",
    "        character_phrase = line_fields[4].strip()\n",
    "        \n",
    "        char_line = character_name + \": \" + character_phrase\n",
    "        lines_simple[line_ID] = char_line\n",
    "        \n",
    "    except: \n",
    "        print(\"Problem with %d th line \\n\", i)\n",
    "    \n"
   ]
  },
  {
   "cell_type": "markdown",
   "metadata": {
    "collapsed": true
   },
   "source": [
    "## Re-create conversations"
   ]
  },
  {
   "cell_type": "code",
   "execution_count": 5,
   "metadata": {
    "collapsed": true
   },
   "outputs": [],
   "source": [
    "conv_filename = \"cornell movie-dialogs corpus/movie_conversations.txt\"\n",
    "conv_file = open(conv_filename, 'r', encoding=\"ISO-8859-1\")\n",
    "all_conv = conv_file.read()\n",
    "conv = all_conv.split(\"\\n\")"
   ]
  },
  {
   "cell_type": "code",
   "execution_count": 8,
   "metadata": {},
   "outputs": [],
   "source": [
    "conv_tmp = conv[0:5]"
   ]
  },
  {
   "cell_type": "code",
   "execution_count": 10,
   "metadata": {},
   "outputs": [
    {
     "name": "stdout",
     "output_type": "stream",
     "text": [
      "BIANCA: Can we make this quick?  Roxanne Korrine and Andrew Barrett are having an incredibly horrendous public break- up on the quad.  Again.\n",
      "CAMERON: Well, I thought we'd start with pronunciation, if that's okay with you.\n",
      "BIANCA: Not the hacking and gagging and spitting part.  Please.\n",
      "CAMERON: Okay... then how 'bout we try out some French cuisine.  Saturday?  Night?\n",
      "\n",
      "\n",
      "BIANCA: You're asking me out.  That's so cute. What's your name again?\n",
      "CAMERON: Forget it.\n",
      "\n",
      "\n",
      "BIANCA: No, no, it's my fault -- we didn't have a proper introduction ---\n",
      "CAMERON: Cameron.\n",
      "BIANCA: The thing is, Cameron -- I'm at the mercy of a particularly hideous breed of loser.  My sister.  I can't date until she does.\n",
      "CAMERON: Seems like she could get a date easy enough...\n",
      "\n",
      "\n",
      "CAMERON: Why?\n",
      "BIANCA: Unsolved mystery.  She used to be really popular when she started high school, then it was just like she got sick of it or something.\n",
      "CAMERON: That's a shame.\n",
      "\n",
      "\n",
      "BIANCA: Gosh, if only we could find Kat a boyfriend...\n",
      "CAMERON: Let me see what I can do.\n",
      "\n",
      "\n"
     ]
    }
   ],
   "source": [
    "for c in conv_tmp:\n",
    "    c_lines = c.split(\"+++$+++\")[3].strip()[1:-1].split(\",\")\n",
    "    for l in c_lines:\n",
    "        print(lines_simple[l.strip(' \\'')])\n",
    "    print(\"\\n\")"
   ]
  },
  {
   "cell_type": "code",
   "execution_count": null,
   "metadata": {
    "collapsed": true
   },
   "outputs": [],
   "source": []
  }
 ],
 "metadata": {
  "kernelspec": {
   "display_name": "Python 3",
   "language": "python",
   "name": "python3"
  },
  "language_info": {
   "codemirror_mode": {
    "name": "ipython",
    "version": 3
   },
   "file_extension": ".py",
   "mimetype": "text/x-python",
   "name": "python",
   "nbconvert_exporter": "python",
   "pygments_lexer": "ipython3",
   "version": "3.6.1"
  }
 },
 "nbformat": 4,
 "nbformat_minor": 2
}
