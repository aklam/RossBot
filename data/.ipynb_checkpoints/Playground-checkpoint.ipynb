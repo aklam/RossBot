{
 "cells": [
  {
   "cell_type": "code",
   "execution_count": 23,
   "metadata": {},
   "outputs": [],
   "source": [
    "import html2text\n",
    "import os\n",
    "import shutil\n",
    "import re"
   ]
  },
  {
   "cell_type": "code",
   "execution_count": 24,
   "metadata": {},
   "outputs": [],
   "source": [
    "target_from = \"HTML_scripts/\"\n",
    "target_to = \"TXT_scripts/\"\n",
    "\n",
    "if os.path.isdir(target_to):\n",
    "    shutil.rmtree(target_to)\n",
    "    \n",
    "os.mkdir(target_to)\n",
    "\n",
    "html_scripts = os.listdir(target_from)"
   ]
  },
  {
   "cell_type": "code",
   "execution_count": 25,
   "metadata": {},
   "outputs": [],
   "source": [
    "for s in html_scripts:\n",
    "    f = open(target_from + s, 'r', encoding = \"ISO-8859-1\")\n",
    "    f_contents = f.read()\n",
    "    f.close()\n",
    "    \n",
    "    text = html2text.html2text(f_contents)\n",
    "    text = re.sub(\"\\*\", \"\", text)\n",
    "    text = re.sub('\\x85','...', text)\n",
    "    text = re.sub('\\x92','\\'', text)\n",
    "    text = re.sub('\\x96', '-', text)\n",
    "    text = re.sub('\\x97', '-', text)\n",
    "    fw = open(target_to + s.split(\".\")[0]+\".txt\", 'w')\n",
    "    fw.write(text)\n",
    "    fw.close()"
   ]
  },
  {
   "cell_type": "code",
   "execution_count": 2,
   "metadata": {
    "collapsed": true
   },
   "outputs": [],
   "source": []
  },
  {
   "cell_type": "code",
   "execution_count": null,
   "metadata": {
    "collapsed": true
   },
   "outputs": [],
   "source": []
  }
 ],
 "metadata": {
  "kernelspec": {
   "display_name": "Python 3",
   "language": "python",
   "name": "python3"
  },
  "language_info": {
   "codemirror_mode": {
    "name": "ipython",
    "version": 3
   },
   "file_extension": ".py",
   "mimetype": "text/x-python",
   "name": "python",
   "nbconvert_exporter": "python",
   "pygments_lexer": "ipython3",
   "version": "3.6.1"
  }
 },
 "nbformat": 4,
 "nbformat_minor": 2
}
